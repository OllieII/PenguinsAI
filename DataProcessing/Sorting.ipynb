{
 "cells": [
  {
   "cell_type": "code",
   "execution_count": 1,
   "metadata": {},
   "outputs": [],
   "source": [
    "import pandas as pd\n",
    "import numpy as np\n",
    "import json"
   ]
  },
  {
   "cell_type": "code",
   "execution_count": 2,
   "metadata": {},
   "outputs": [],
   "source": [
    "def extract_seconds_from_launch(game_state_str):\n",
    "    try:\n",
    "        return json.loads(game_state_str).get('seconds_from_launch', 0)\n",
    "    except json.JSONDecodeError:\n",
    "        return 0"
   ]
  },
  {
   "cell_type": "code",
   "execution_count": 3,
   "metadata": {},
   "outputs": [],
   "source": [
    "df = pd.read_csv(r'C:\\Users\\oguo2\\GitHub\\PenguinsAI\\RawData\\PENGUINS_20240101_to_20240131_df72162_events.tsv', delimiter='\\t')"
   ]
  },
  {
   "cell_type": "code",
   "execution_count": 4,
   "metadata": {},
   "outputs": [],
   "source": [
    "def session_then_launch(target_csv, output_name, output_status):\n",
    "    target_csv['seconds_from_launch'] = target_csv['game_state'].apply(extract_seconds_from_launch)\n",
    "    df_sorted = target_csv.sort_values(by=['session_id', 'index'])\n",
    "    if output_status:\n",
    "        df_sorted.to_csv(output_name, sep='\\t', index=False)\n",
    "    else:\n",
    "        return df_sorted\n"
   ]
  },
  {
   "cell_type": "code",
   "execution_count": 12,
   "metadata": {},
   "outputs": [],
   "source": [
    "df_sorted = session_then_launch(df,\"Sorted_Jan\", True)"
   ]
  },
  {
   "cell_type": "code",
   "execution_count": 6,
   "metadata": {},
   "outputs": [
    {
     "data": {
      "text/plain": [
       "Index(['session_id', 'app_id', 'timestamp', 'event_name', 'event_data',\n",
       "       'event_source', 'app_version', 'app_branch', 'log_version', 'offset',\n",
       "       'user_id', 'user_data', 'game_state', 'index', 'seconds_from_launch'],\n",
       "      dtype='object')"
      ]
     },
     "execution_count": 6,
     "metadata": {},
     "output_type": "execute_result"
    }
   ],
   "source": [
    "df.columns"
   ]
  },
  {
   "cell_type": "code",
   "execution_count": 7,
   "metadata": {},
   "outputs": [],
   "source": [
    "def check_event_starts(group, event_name):\n",
    "    mismatches = []\n",
    "    # Get indices of the specified event\n",
    "    event_indices = group[group['event_name'] == event_name].index\n",
    "    # Check each event occurrence\n",
    "    for idx in event_indices:\n",
    "        # If it's not the first event or if the previous 'session_id' is the same, it's a mismatch\n",
    "        if idx != group.index[0] and group.at[idx, 'session_id'] == group.at[idx - 1, 'session_id']:\n",
    "            mismatches.append(group.at[idx, 'session_id'])\n",
    "    return mismatches"
   ]
  },
  {
   "cell_type": "code",
   "execution_count": 8,
   "metadata": {},
   "outputs": [],
   "source": [
    "def find_mismatches(df, event_name):\n",
    "    # Group by 'session_id' and apply the checking function for the specified event name\n",
    "    mismatched_sessions = df.groupby('session_id').apply(lambda g: check_event_starts(g, event_name))\n",
    "\n",
    "    # Flatten the list of mismatched sessions\n",
    "    mismatched_sessions = [item for sublist in mismatched_sessions for item in sublist]\n",
    "\n",
    "    # Print out the sessions with mismatches\n",
    "    if mismatched_sessions:\n",
    "        print(f\"The total of '{len(mismatched_sessions)}'following sessions have '{event_name}' events that do not match a change in 'session_id':\")\n",
    "        for session in mismatched_sessions:\n",
    "            print(session)\n",
    "    else:\n",
    "        print(f\"All '{event_name}' events match a change in 'session_id'.\")\n"
   ]
  },
  {
   "cell_type": "code",
   "execution_count": 9,
   "metadata": {},
   "outputs": [
    {
     "name": "stdout",
     "output_type": "stream",
     "text": [
      "All 'device_identifier' events match a change in 'session_id'.\n"
     ]
    },
    {
     "name": "stderr",
     "output_type": "stream",
     "text": [
      "C:\\Users\\oguo2\\AppData\\Local\\Temp\\ipykernel_1836\\3782325686.py:3: DeprecationWarning: DataFrameGroupBy.apply operated on the grouping columns. This behavior is deprecated, and in a future version of pandas the grouping columns will be excluded from the operation. Either pass `include_groups=False` to exclude the groupings or explicitly select the grouping columns after groupby to silence this warning.\n",
      "  mismatched_sessions = df.groupby('session_id').apply(lambda g: check_event_starts(g, event_name))\n"
     ]
    }
   ],
   "source": [
    "find_mismatches(df_sorted, 'device_identifier')"
   ]
  },
  {
   "cell_type": "code",
   "execution_count": 10,
   "metadata": {},
   "outputs": [
    {
     "data": {
      "text/plain": [
       "471"
      ]
     },
     "execution_count": 10,
     "metadata": {},
     "output_type": "execute_result"
    }
   ],
   "source": [
    "len(df[df['index']==0])"
   ]
  },
  {
   "cell_type": "code",
   "execution_count": 20,
   "metadata": {},
   "outputs": [
    {
     "data": {
      "text/plain": [
       "array(['global_timer_begin', 'mating_dance_indicator_updated', 'start',\n",
       "       'device_identifier', 'begin', 'close_menu', 'application_start',\n",
       "       'right_hand_data', 'gaze_object_begin', 'player_waddle',\n",
       "       'viewport_data', 'left_hand_data', 'gaze_object_end',\n",
       "       'activity_begin', 'pickup_rock', 'activity_end', 'nest_complete',\n",
       "       'egg_hatch_indicator_updated', 'skua_spawn', 'skua_move',\n",
       "       'flipper_bash_skua', 'egg_recovered', 'open_menu', 'egg_lost',\n",
       "       'select_menu_item', 'headset_off', 'headset_on', 'egg_hatched',\n",
       "       'language_selected', 'ring_chime'], dtype=object)"
      ]
     },
     "execution_count": 20,
     "metadata": {},
     "output_type": "execute_result"
    }
   ],
   "source": [
    "df['event_name'].unique()"
   ]
  },
  {
   "cell_type": "code",
   "execution_count": null,
   "metadata": {},
   "outputs": [],
   "source": []
  }
 ],
 "metadata": {
  "kernelspec": {
   "display_name": "Python 3",
   "language": "python",
   "name": "python3"
  },
  "language_info": {
   "codemirror_mode": {
    "name": "ipython",
    "version": 3
   },
   "file_extension": ".py",
   "mimetype": "text/x-python",
   "name": "python",
   "nbconvert_exporter": "python",
   "pygments_lexer": "ipython3",
   "version": "3.12.1"
  }
 },
 "nbformat": 4,
 "nbformat_minor": 2
}
