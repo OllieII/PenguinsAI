{
 "cells": [
  {
   "cell_type": "code",
   "execution_count": 8,
   "metadata": {},
   "outputs": [],
   "source": [
    "import pandas as pd\n",
    "import numpy as np\n",
    "import json"
   ]
  },
  {
   "cell_type": "code",
   "execution_count": 3,
   "metadata": {},
   "outputs": [],
   "source": [
    "def extract_seconds_from_launch(game_state_str):\n",
    "    try:\n",
    "        return json.loads(game_state_str).get('seconds_from_launch', 0)\n",
    "    except json.JSONDecodeError:\n",
    "        return 0"
   ]
  },
  {
   "cell_type": "code",
   "execution_count": 5,
   "metadata": {},
   "outputs": [],
   "source": [
    "df = pd.read_csv('/Users/ollieguo/Documents/GitHub/PenguinsAI/RawData/PENGUINS_20240101_to_20240131_df72162_events.tsv', delimiter='\\t')"
   ]
  },
  {
   "cell_type": "code",
   "execution_count": 9,
   "metadata": {},
   "outputs": [],
   "source": [
    "# Extract 'seconds_from_launch' from the 'game_state' column\n",
    "df['seconds_from_launch'] = df['game_state'].apply(extract_seconds_from_launch)\n",
    "\n",
    "# Sort the data by 'session_id' and then by 'seconds_from_launch'\n",
    "df_sorted = df.sort_values(by=['session_id', 'seconds_from_launch'])\n",
    "\n",
    "# Save the sorted data to a new TSV file\n",
    "df_sorted.to_csv('sorted_data.tsv', sep='\\t', index=False)"
   ]
  },
  {
   "cell_type": "code",
   "execution_count": null,
   "metadata": {},
   "outputs": [],
   "source": []
  }
 ],
 "metadata": {
  "kernelspec": {
   "display_name": "Python 3",
   "language": "python",
   "name": "python3"
  },
  "language_info": {
   "codemirror_mode": {
    "name": "ipython",
    "version": 3
   },
   "file_extension": ".py",
   "mimetype": "text/x-python",
   "name": "python",
   "nbconvert_exporter": "python",
   "pygments_lexer": "ipython3",
   "version": "3.10.1"
  }
 },
 "nbformat": 4,
 "nbformat_minor": 2
}
